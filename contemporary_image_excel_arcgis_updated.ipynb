{
 "cells": [
  {
   "cell_type": "code",
   "execution_count": 1,
   "metadata": {},
   "outputs": [],
   "source": [
    "import pandas as pd"
   ]
  },
  {
   "cell_type": "code",
   "execution_count": 2,
   "metadata": {},
   "outputs": [],
   "source": [
    "# Path to your CSV file\n",
    "file_path = r\"C:\\Users\\yixiu\\Desktop\\Project\\PollutionEstimation\\SuperCloud\\data_from_eosloan_reloc\\historical_data\\all_tiles_171820_resampled_500m\\all_tiles_171820_resampled_500m_aod_resize.csv\"\n",
    "\n",
    "# Read the CSV file into a DataFrame\n",
    "df = pd.read_csv(file_path)"
   ]
  },
  {
   "cell_type": "code",
   "execution_count": 3,
   "metadata": {},
   "outputs": [
    {
     "name": "stdout",
     "output_type": "stream",
     "text": [
      "   Unnamed: 0.1  Unnamed: 0  \\\n",
      "0             0           0   \n",
      "1             1           1   \n",
      "2             2           2   \n",
      "3             3           3   \n",
      "4             4           4   \n",
      "\n",
      "                                           tile_path  \\\n",
      "0  /home/gridsan/gsingal/data_from_eosloan_reloc/...   \n",
      "1  /home/gridsan/gsingal/data_from_eosloan_reloc/...   \n",
      "2  /home/gridsan/gsingal/data_from_eosloan_reloc/...   \n",
      "3  /home/gridsan/gsingal/data_from_eosloan_reloc/...   \n",
      "4  /home/gridsan/gsingal/data_from_eosloan_reloc/...   \n",
      "\n",
      "                                       original_path  per_nodata  \\\n",
      "0  /home/gridsan/gsingal/data_from_eosloan_reloc/...   90.845968   \n",
      "1  /home/gridsan/gsingal/data_from_eosloan_reloc/...    4.487833   \n",
      "2  /home/gridsan/gsingal/data_from_eosloan_reloc/...    8.373678   \n",
      "3  /home/gridsan/gsingal/data_from_eosloan_reloc/...    6.433941   \n",
      "4  /home/gridsan/gsingal/data_from_eosloan_reloc/...    5.202822   \n",
      "\n",
      "                                            geometry  grid_id_1km  \\\n",
      "0  POLYGON ((77.14782196 28.832839203000002, 77.1...        287.0   \n",
      "1  POLYGON ((77.20782196 28.772316963406052, 77.2...        598.0   \n",
      "2  POLYGON ((77.232475281 28.722810744999997, 77....        856.0   \n",
      "3  POLYGON ((77.232345581 28.672794341999996, 77....       1111.0   \n",
      "4  POLYGON ((77.217948914 28.66285514799999, 77.2...       1110.0   \n",
      "\n",
      "   grid_id_500m   tile_lat  tile_long  ... aod_p25_047 aod_p50_047  \\\n",
      "0        1083.0  28.830339  77.150322  ...         NaN         NaN   \n",
      "1        2318.0  28.770332  77.205315  ...         NaN         NaN   \n",
      "2        3343.0  28.720296  77.230217  ...         NaN         NaN   \n",
      "3        4363.0  28.670297  77.230264  ...         NaN         NaN   \n",
      "4        4463.0  28.665340  77.220322  ...         NaN         NaN   \n",
      "\n",
      "  aod_p75_047 aod_mean_055  aod_min_055  aod_max_055  aod_p25_055  \\\n",
      "0         NaN          NaN          NaN          NaN          NaN   \n",
      "1         NaN          NaN          NaN          NaN          NaN   \n",
      "2         NaN          NaN          NaN          NaN          NaN   \n",
      "3         NaN          NaN          NaN          NaN          NaN   \n",
      "4         NaN          NaN          NaN          NaN          NaN   \n",
      "\n",
      "   aod_p50_055  aod_p75_055                              tile_path_8bit_arcgis  \n",
      "0          NaN          NaN  /home/gridsan/gsingal/data_from_eosloan_reloc/...  \n",
      "1          NaN          NaN  /home/gridsan/gsingal/data_from_eosloan_reloc/...  \n",
      "2          NaN          NaN  /home/gridsan/gsingal/data_from_eosloan_reloc/...  \n",
      "3          NaN          NaN  /home/gridsan/gsingal/data_from_eosloan_reloc/...  \n",
      "4          NaN          NaN  /home/gridsan/gsingal/data_from_eosloan_reloc/...  \n",
      "\n",
      "[5 rows x 41 columns]\n"
     ]
    }
   ],
   "source": [
    "# Path to your CSV file\n",
    "file_path = r\"C:\\Users\\yixiu\\Desktop\\Project\\PollutionEstimation\\SuperCloud\\data_from_eosloan_reloc\\historical_data\\all_tiles_171820_resampled_500m\\all_tiles_171820_resampled_500m_aod_resize.csv\"\n",
    "\n",
    "# Read the CSV file into a DataFrame\n",
    "df = pd.read_csv(file_path, encoding='utf-8')\n",
    "\n",
    "# Function to modify the tile_path\n",
    "def modify_tile_path(path):\n",
    "    # Split the path into parts\n",
    "    parts = path.split('/')\n",
    "    \n",
    "    # Find the index of the part that needs \"_arcgis\"\n",
    "    for i, part in enumerate(parts):\n",
    "        if 'all_tiles_171820_resampled_500m_resize_imgs' in part:\n",
    "            parts[i] = part + '_8bit_arcgis'\n",
    "    \n",
    "    # Find the index of the part that starts with \"tile\"\n",
    "    for i, part in enumerate(parts):\n",
    "        if 'strip' in part:\n",
    "            parts[i] = 'raster_' + part\n",
    "    \n",
    "    # Join the parts back together into a single path\n",
    "    new_path = '/'.join(parts)\n",
    "    return new_path\n",
    "\n",
    "# Create the new column with modified paths\n",
    "df['tile_path_8bit_arcgis'] = df['tile_path'].apply(modify_tile_path)\n",
    "\n",
    "# Display the first few rows to verify the changes\n",
    "print(df.head())\n",
    "\n",
    "# Save the modified DataFrame to a new CSV file\n",
    "new_file_path = r\"C:\\Users\\yixiu\\Desktop\\Project\\PollutionEstimation\\SuperCloud\\data_from_eosloan_reloc\\historical_data\\all_tiles_171820_resampled_500m\\all_tiles_171820_resampled_500m_aod_resize_8bit_arcgis.csv\"\n",
    "df.to_csv(new_file_path, index=False, encoding='utf-8')\n"
   ]
  }
 ],
 "metadata": {
  "kernelspec": {
   "display_name": "Python 3",
   "language": "python",
   "name": "python3"
  },
  "language_info": {
   "codemirror_mode": {
    "name": "ipython",
    "version": 3
   },
   "file_extension": ".py",
   "mimetype": "text/x-python",
   "name": "python",
   "nbconvert_exporter": "python",
   "pygments_lexer": "ipython3",
   "version": "3.11.9"
  }
 },
 "nbformat": 4,
 "nbformat_minor": 2
}
