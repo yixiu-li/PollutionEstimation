{
 "cells": [
  {
   "cell_type": "code",
   "execution_count": 2,
   "metadata": {},
   "outputs": [],
   "source": [
    "import pandas as pd"
   ]
  },
  {
   "cell_type": "code",
   "execution_count": 4,
   "metadata": {},
   "outputs": [],
   "source": [
    "# Path to your CSV file\n",
    "file_path = r\"C:\\Users\\yixiu\\Desktop\\Project\\PollutionEstimation\\SuperCloud\\data_from_eosloan_reloc\\historical_data\\all_tiles_historical_resampled_500m\\all_tiles_historical_resampled_500m_aod_resize.csv\"\n",
    "\n",
    "# Read the CSV file into a DataFrame\n",
    "df = pd.read_csv(file_path)"
   ]
  },
  {
   "cell_type": "code",
   "execution_count": 7,
   "metadata": {},
   "outputs": [
    {
     "name": "stdout",
     "output_type": "stream",
     "text": [
      "   Unnamed: 0.1                                          tile_path  mean_047  \\\n",
      "0             0  /home/gridsan/gsingal/data_from_eosloan_reloc/...  0.993638   \n",
      "1             1  /home/gridsan/gsingal/data_from_eosloan_reloc/...  0.373165   \n",
      "2             2  /home/gridsan/gsingal/data_from_eosloan_reloc/...  0.319730   \n",
      "3             3  /home/gridsan/gsingal/data_from_eosloan_reloc/...       NaN   \n",
      "4             4  /home/gridsan/gsingal/data_from_eosloan_reloc/...       NaN   \n",
      "\n",
      "   mean_055  Unnamed: 0                                    tile_path_16bit  \\\n",
      "0  0.798776           4  /home/gridsan/gsingal/data_from_eosloan_reloc/...   \n",
      "1  0.284148          22  /home/gridsan/gsingal/data_from_eosloan_reloc/...   \n",
      "2  0.248417          40  /home/gridsan/gsingal/data_from_eosloan_reloc/...   \n",
      "3       NaN          76  /home/gridsan/gsingal/data_from_eosloan_reloc/...   \n",
      "4       NaN          94  /home/gridsan/gsingal/data_from_eosloan_reloc/...   \n",
      "\n",
      "         date  percent_nodata_tile  anomalous_pixels  cloud_cover  ...  \\\n",
      "0  2018-06-03                   37               NaN          NaN  ...   \n",
      "1  2020-04-04                    4               NaN          NaN  ...   \n",
      "2  2019-01-29                    4               NaN          NaN  ...   \n",
      "3  2020-05-29                   29               NaN          NaN  ...   \n",
      "4  2018-07-23                    9              0.41         0.85  ...   \n",
      "\n",
      "   gmaps_lon  temp_celsius  station_short_name     slp_in   wdsp_kph  \\\n",
      "0  77.304571     34.143519          patparganj  28.742292  15.925800   \n",
      "1  77.304571     24.641204          patparganj  29.050625   7.141464   \n",
      "2  77.304571     11.909722          patparganj  29.288750  10.360152   \n",
      "3  77.304571     29.302600          patparganj  28.802979  15.990716   \n",
      "4  77.304571     30.354610          patparganj  28.685745   8.731547   \n",
      "\n",
      "   humidity_percent  visib_km  wind_direction  wind_bucket  \\\n",
      "0         49.041667  3.540557       46.240187          2.0   \n",
      "1         42.458333  3.379622      311.219189          7.0   \n",
      "2         62.000000  2.253082      330.201148          8.0   \n",
      "3         56.893617  2.735885      151.252471          4.0   \n",
      "4         79.404255  3.701491      172.059095          4.0   \n",
      "\n",
      "                               tile_path_8bit_arcgis  \n",
      "0  /home/gridsan/gsingal/data_from_eosloan_reloc/...  \n",
      "1  /home/gridsan/gsingal/data_from_eosloan_reloc/...  \n",
      "2  /home/gridsan/gsingal/data_from_eosloan_reloc/...  \n",
      "3  /home/gridsan/gsingal/data_from_eosloan_reloc/...  \n",
      "4  /home/gridsan/gsingal/data_from_eosloan_reloc/...  \n",
      "\n",
      "[5 rows x 24 columns]\n"
     ]
    }
   ],
   "source": [
    "import pandas as pd\n",
    "\n",
    "# Path to your CSV file\n",
    "file_path = r\"C:\\Users\\yixiu\\Desktop\\Project\\PollutionEstimation\\SuperCloud\\data_from_eosloan_reloc\\historical_data\\all_tiles_historical_resampled_500m\\all_tiles_historical_resampled_500m_aod_resize.csv\"\n",
    "\n",
    "# Read the CSV file into a DataFrame\n",
    "df = pd.read_csv(file_path, encoding='utf-8')\n",
    "\n",
    "# Function to modify the tile_path\n",
    "def modify_tile_path(path):\n",
    "    # Split the path into parts\n",
    "    parts = path.split('/')\n",
    "    \n",
    "    # Find the index of the part that needs \"_arcgis\"\n",
    "    for i, part in enumerate(parts):\n",
    "        if 'all_tiles_historical_resampled_500m_resize_imgs' in part:\n",
    "            parts[i] = part + '_8bit_arcgis'\n",
    "    \n",
    "    # Find the index of the part that starts with \"tile\"\n",
    "    for i, part in enumerate(parts):\n",
    "        if part.startswith('QB2'):\n",
    "            parts[i] = 'raster_' + part\n",
    "    \n",
    "    # Join the parts back together into a single path\n",
    "    new_path = '/'.join(parts)\n",
    "    return new_path\n",
    "\n",
    "# Create the new column with modified paths\n",
    "df['tile_path_8bit_arcgis'] = df['tile_path'].apply(modify_tile_path)\n",
    "\n",
    "# Display the first few rows to verify the changes\n",
    "print(df.head())\n",
    "\n",
    "# Save the modified DataFrame to a new CSV file\n",
    "new_file_path = r\"C:\\Users\\yixiu\\Desktop\\Project\\PollutionEstimation\\SuperCloud\\data_from_eosloan_reloc\\historical_data\\all_tiles_historical_resampled_500m\\all_tiles_historical_resampled_500m_aod_resize_8bit_arcgis.csv\"\n",
    "df.to_csv(new_file_path, index=False, encoding='utf-8')\n"
   ]
  }
 ],
 "metadata": {
  "kernelspec": {
   "display_name": "Python 3",
   "language": "python",
   "name": "python3"
  },
  "language_info": {
   "name": "python",
   "version": "3.11.9"
  }
 },
 "nbformat": 4,
 "nbformat_minor": 2
}
